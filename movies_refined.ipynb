{
 "cells": [
  {
   "cell_type": "code",
   "execution_count": 1,
   "id": "d04cee70-80f7-41d8-893a-75dfb3946dc7",
   "metadata": {},
   "outputs": [],
   "source": [
    "import pandas as pd\n",
    "import numpy as np\n",
    "\n",
    "from sklearn.model_selection import train_test_split\n",
    "from sklearn.pipeline import Pipeline\n",
    "from sklearn.compose import ColumnTransformer\n",
    "from sklearn.preprocessing import OneHotEncoder, StandardScaler\n",
    "from sklearn.impute import SimpleImputer\n",
    "from sklearn.metrics import root_mean_squared_error\n",
    "import xgboost as xgb\n",
    "\n",
    "from matplotlib import pyplot as plt\n",
    "import category_encoders as ce\n",
    "from textblob import TextBlob\n",
    "\n"
   ]
  },
  {
   "cell_type": "code",
   "execution_count": null,
   "id": "f34b2111-67d8-4474-9837-e83f65fcdef1",
   "metadata": {},
   "outputs": [],
   "source": []
  },
  {
   "cell_type": "code",
   "execution_count": 7,
   "id": "a21ad88c-5a36-464d-98a6-535731b59819",
   "metadata": {},
   "outputs": [],
   "source": [
    "raw_df = pd.read_csv(\"tmdb-movies.csv\")\n"
   ]
  },
  {
   "cell_type": "code",
   "execution_count": 8,
   "id": "67a9d6a1-eeeb-49a1-b344-cb3eda5ff2ec",
   "metadata": {},
   "outputs": [],
   "source": [
    "def read_prep_data(df):\n",
    "\n",
    "    # Select Columns of Interest\n",
    "    cols_of_interest = [\n",
    "        \"vote_average\", \"vote_count\", \"status\", \"release_date\", \n",
    "        \"revenue\", \"runtime\", \"budget\", \"overview\", \"popularity\", \n",
    "        \"genres\", \"production_companies\", \"production_countries\", \"spoken_languages\", \"keywords\"\n",
    "    ]\n",
    "\n",
    "    df = df[cols_of_interest]\n",
    "    df = df[df.vote_average > 0]\n",
    "\n",
    "    # Extract release year and age of the movie\n",
    "    df[\"release_year\"] = pd.to_datetime(df.release_date).dt.year\n",
    "    df[\"movie_age\"] = 2024 - df[\"release_year\"]\n",
    "    df[\"overview_word_count\"] = df[\"overview\"].apply(lambda x: len(str(x).split()) if pd.notna(x) else 0)\n",
    "    df[\"overview_sentiment\"] = df[\"overview\"].apply(lambda x: TextBlob(x).sentiment.polarity if pd.notna(x) else 0)\n",
    "\n",
    "    # Log transformation for skewed numerical features\n",
    "    df[\"log_budget\"] = np.log1p(df[\"budget\"])\n",
    "    df[\"log_revenue\"] = np.log1p(df[\"revenue\"])\n",
    "    df[\"log_popularity\"] = np.log1p(df[\"popularity\"])\n",
    "\n",
    "    # Replace missing values\n",
    "    df.fillna(0, inplace=True)\n",
    "\n",
    "    # Drop columns we no longer need\n",
    "    df.drop(columns=[\"release_date\", \"release_year\", \"budget\", \"revenue\", \"popularity\"], inplace=True)\n",
    "\n",
    "    return df"
   ]
  },
  {
   "cell_type": "code",
   "execution_count": 9,
   "id": "88433232-eb11-491b-9463-60accec2604e",
   "metadata": {},
   "outputs": [
    {
     "name": "stderr",
     "output_type": "stream",
     "text": [
      "/Users/sethurama/Library/Caches/pypoetry/virtualenvs/mlzc-movie-pred-0bbqC9PW-py3.13/lib/python3.13/site-packages/pandas/core/arraylike.py:399: RuntimeWarning: invalid value encountered in log1p\n",
      "  result = getattr(ufunc, method)(*inputs, **kwargs)\n"
     ]
    }
   ],
   "source": [
    "df = read_prep_data(raw_df)"
   ]
  },
  {
   "cell_type": "code",
   "execution_count": 10,
   "id": "3100f5c5-b0c8-4ff8-b4b4-8537f3934396",
   "metadata": {},
   "outputs": [
    {
     "name": "stdout",
     "output_type": "stream",
     "text": [
      "<class 'pandas.core.frame.DataFrame'>\n",
      "Index: 350076 entries, 0 to 1130860\n",
      "Data columns (total 16 columns):\n",
      " #   Column                Non-Null Count   Dtype  \n",
      "---  ------                --------------   -----  \n",
      " 0   vote_average          350076 non-null  float64\n",
      " 1   vote_count            350076 non-null  int64  \n",
      " 2   status                350076 non-null  object \n",
      " 3   runtime               350076 non-null  int64  \n",
      " 4   overview              350076 non-null  object \n",
      " 5   genres                350076 non-null  object \n",
      " 6   production_companies  350076 non-null  object \n",
      " 7   production_countries  350076 non-null  object \n",
      " 8   spoken_languages      350076 non-null  object \n",
      " 9   keywords              350076 non-null  object \n",
      " 10  movie_age             350076 non-null  float64\n",
      " 11  overview_word_count   350076 non-null  int64  \n",
      " 12  overview_sentiment    350076 non-null  float64\n",
      " 13  log_budget            350076 non-null  float64\n",
      " 14  log_revenue           350076 non-null  float64\n",
      " 15  log_popularity        350076 non-null  float64\n",
      "dtypes: float64(6), int64(3), object(7)\n",
      "memory usage: 45.4+ MB\n"
     ]
    }
   ],
   "source": [
    "df.info()"
   ]
  },
  {
   "cell_type": "code",
   "execution_count": 11,
   "id": "3e870d18-d079-48e8-83b0-e16d2d197d36",
   "metadata": {},
   "outputs": [
    {
     "data": {
      "text/plain": [
       "((210045, 15), (70015, 15), (70016, 15))"
      ]
     },
     "execution_count": 11,
     "metadata": {},
     "output_type": "execute_result"
    }
   ],
   "source": [
    "df_full_train, df_test = train_test_split(df, test_size=0.2, random_state=1)\n",
    "df_train, df_val = train_test_split(df_full_train, test_size=0.25, random_state=1)\n",
    "\n",
    "df_train = df_train.reset_index(drop=True)\n",
    "df_val = df_val.reset_index(drop=True)\n",
    "df_test = df_test.reset_index(drop=True)\n",
    "df_full_train = df_full_train.reset_index(drop=True)\n",
    "\n",
    "y_train = df_train['vote_average'].values\n",
    "y_val = df_val['vote_average'].values\n",
    "y_test = df_test['vote_average'].values\n",
    "y_full_train = df_full_train['vote_average'].values\n",
    "\n",
    "del df_train['vote_average']\n",
    "del df_val['vote_average']\n",
    "del df_test['vote_average']\n",
    "del df_full_train['vote_average']\n",
    "\n",
    "df_train.shape, df_val.shape, df_test.shape"
   ]
  },
  {
   "cell_type": "code",
   "execution_count": null,
   "id": "0bbbe891-1bb4-41e0-8c63-45f8b6ec94e0",
   "metadata": {},
   "outputs": [],
   "source": []
  },
  {
   "cell_type": "code",
   "execution_count": 12,
   "id": "867826e4-3308-4092-8aa4-25c8702b30ad",
   "metadata": {},
   "outputs": [],
   "source": [
    "# List of features for processing\n",
    "numerical_features = [\"runtime\", \"vote_count\", \"log_budget\", \"log_revenue\", \"log_popularity\", \"movie_age\", \"overview_word_count\", \"overview_sentiment\"]\n",
    "categorical_features_small = [\"status\"]\n",
    "high_cardinality_features = [\"genres\", \"production_companies\", \"production_countries\", \"spoken_languages\", \"keywords\"]\n",
    "\n",
    "\n",
    "# Target Encoding for High Cardinality Features\n",
    "target_enc = ce.TargetEncoder(cols=high_cardinality_features)\n",
    "df_train_encoded = target_enc.fit_transform(df_train, y_train)\n",
    "df_test_encoded = target_enc.transform(df_test)\n",
    "\n",
    "df_train = df_train_encoded.reset_index(drop=True)\n",
    "df_test = df_test_encoded.reset_index(drop=True)\n",
    "\n"
   ]
  },
  {
   "cell_type": "code",
   "execution_count": 13,
   "id": "17efa05a-ec54-4660-8990-4669cc3cbe21",
   "metadata": {},
   "outputs": [],
   "source": [
    "# Create Pipelines for Numerical and Categorical Features\n",
    "\n",
    "numerical_transformer = Pipeline(steps=[\n",
    "    ('imputer', SimpleImputer(strategy='mean')),    # Fill missing values with mean\n",
    "    ('scaler', StandardScaler())                    # Standardize numerical values\n",
    "])\n",
    "\n",
    "# Categorical Transformer for One-Hot Encoding (for low cardinality categorical features)\n",
    "categorical_transformer = Pipeline(steps=[\n",
    "    ('onehot', OneHotEncoder(handle_unknown='ignore'))\n",
    "])\n",
    "\n",
    "# Column Transformer to apply transformations to different features\n",
    "preprocessor = ColumnTransformer(\n",
    "    transformers=[\n",
    "        ('num', numerical_transformer, numerical_features),\n",
    "        ('cat', categorical_transformer, categorical_features_small)\n",
    "    ],\n",
    "    remainder='drop'  # Drop any columns not specified\n",
    ")\n",
    "\n"
   ]
  },
  {
   "cell_type": "code",
   "execution_count": null,
   "id": "656d5e57-1139-4076-bcce-e4d48f8e0d28",
   "metadata": {},
   "outputs": [],
   "source": []
  },
  {
   "cell_type": "code",
   "execution_count": 14,
   "id": "65a8d683-fc19-4ee4-ba08-1bf10c50adcc",
   "metadata": {},
   "outputs": [
    {
     "data": {
      "text/html": [
       "<style>#sk-container-id-1 {\n",
       "  /* Definition of color scheme common for light and dark mode */\n",
       "  --sklearn-color-text: black;\n",
       "  --sklearn-color-line: gray;\n",
       "  /* Definition of color scheme for unfitted estimators */\n",
       "  --sklearn-color-unfitted-level-0: #fff5e6;\n",
       "  --sklearn-color-unfitted-level-1: #f6e4d2;\n",
       "  --sklearn-color-unfitted-level-2: #ffe0b3;\n",
       "  --sklearn-color-unfitted-level-3: chocolate;\n",
       "  /* Definition of color scheme for fitted estimators */\n",
       "  --sklearn-color-fitted-level-0: #f0f8ff;\n",
       "  --sklearn-color-fitted-level-1: #d4ebff;\n",
       "  --sklearn-color-fitted-level-2: #b3dbfd;\n",
       "  --sklearn-color-fitted-level-3: cornflowerblue;\n",
       "\n",
       "  /* Specific color for light theme */\n",
       "  --sklearn-color-text-on-default-background: var(--sg-text-color, var(--theme-code-foreground, var(--jp-content-font-color1, black)));\n",
       "  --sklearn-color-background: var(--sg-background-color, var(--theme-background, var(--jp-layout-color0, white)));\n",
       "  --sklearn-color-border-box: var(--sg-text-color, var(--theme-code-foreground, var(--jp-content-font-color1, black)));\n",
       "  --sklearn-color-icon: #696969;\n",
       "\n",
       "  @media (prefers-color-scheme: dark) {\n",
       "    /* Redefinition of color scheme for dark theme */\n",
       "    --sklearn-color-text-on-default-background: var(--sg-text-color, var(--theme-code-foreground, var(--jp-content-font-color1, white)));\n",
       "    --sklearn-color-background: var(--sg-background-color, var(--theme-background, var(--jp-layout-color0, #111)));\n",
       "    --sklearn-color-border-box: var(--sg-text-color, var(--theme-code-foreground, var(--jp-content-font-color1, white)));\n",
       "    --sklearn-color-icon: #878787;\n",
       "  }\n",
       "}\n",
       "\n",
       "#sk-container-id-1 {\n",
       "  color: var(--sklearn-color-text);\n",
       "}\n",
       "\n",
       "#sk-container-id-1 pre {\n",
       "  padding: 0;\n",
       "}\n",
       "\n",
       "#sk-container-id-1 input.sk-hidden--visually {\n",
       "  border: 0;\n",
       "  clip: rect(1px 1px 1px 1px);\n",
       "  clip: rect(1px, 1px, 1px, 1px);\n",
       "  height: 1px;\n",
       "  margin: -1px;\n",
       "  overflow: hidden;\n",
       "  padding: 0;\n",
       "  position: absolute;\n",
       "  width: 1px;\n",
       "}\n",
       "\n",
       "#sk-container-id-1 div.sk-dashed-wrapped {\n",
       "  border: 1px dashed var(--sklearn-color-line);\n",
       "  margin: 0 0.4em 0.5em 0.4em;\n",
       "  box-sizing: border-box;\n",
       "  padding-bottom: 0.4em;\n",
       "  background-color: var(--sklearn-color-background);\n",
       "}\n",
       "\n",
       "#sk-container-id-1 div.sk-container {\n",
       "  /* jupyter's `normalize.less` sets `[hidden] { display: none; }`\n",
       "     but bootstrap.min.css set `[hidden] { display: none !important; }`\n",
       "     so we also need the `!important` here to be able to override the\n",
       "     default hidden behavior on the sphinx rendered scikit-learn.org.\n",
       "     See: https://github.com/scikit-learn/scikit-learn/issues/21755 */\n",
       "  display: inline-block !important;\n",
       "  position: relative;\n",
       "}\n",
       "\n",
       "#sk-container-id-1 div.sk-text-repr-fallback {\n",
       "  display: none;\n",
       "}\n",
       "\n",
       "div.sk-parallel-item,\n",
       "div.sk-serial,\n",
       "div.sk-item {\n",
       "  /* draw centered vertical line to link estimators */\n",
       "  background-image: linear-gradient(var(--sklearn-color-text-on-default-background), var(--sklearn-color-text-on-default-background));\n",
       "  background-size: 2px 100%;\n",
       "  background-repeat: no-repeat;\n",
       "  background-position: center center;\n",
       "}\n",
       "\n",
       "/* Parallel-specific style estimator block */\n",
       "\n",
       "#sk-container-id-1 div.sk-parallel-item::after {\n",
       "  content: \"\";\n",
       "  width: 100%;\n",
       "  border-bottom: 2px solid var(--sklearn-color-text-on-default-background);\n",
       "  flex-grow: 1;\n",
       "}\n",
       "\n",
       "#sk-container-id-1 div.sk-parallel {\n",
       "  display: flex;\n",
       "  align-items: stretch;\n",
       "  justify-content: center;\n",
       "  background-color: var(--sklearn-color-background);\n",
       "  position: relative;\n",
       "}\n",
       "\n",
       "#sk-container-id-1 div.sk-parallel-item {\n",
       "  display: flex;\n",
       "  flex-direction: column;\n",
       "}\n",
       "\n",
       "#sk-container-id-1 div.sk-parallel-item:first-child::after {\n",
       "  align-self: flex-end;\n",
       "  width: 50%;\n",
       "}\n",
       "\n",
       "#sk-container-id-1 div.sk-parallel-item:last-child::after {\n",
       "  align-self: flex-start;\n",
       "  width: 50%;\n",
       "}\n",
       "\n",
       "#sk-container-id-1 div.sk-parallel-item:only-child::after {\n",
       "  width: 0;\n",
       "}\n",
       "\n",
       "/* Serial-specific style estimator block */\n",
       "\n",
       "#sk-container-id-1 div.sk-serial {\n",
       "  display: flex;\n",
       "  flex-direction: column;\n",
       "  align-items: center;\n",
       "  background-color: var(--sklearn-color-background);\n",
       "  padding-right: 1em;\n",
       "  padding-left: 1em;\n",
       "}\n",
       "\n",
       "\n",
       "/* Toggleable style: style used for estimator/Pipeline/ColumnTransformer box that is\n",
       "clickable and can be expanded/collapsed.\n",
       "- Pipeline and ColumnTransformer use this feature and define the default style\n",
       "- Estimators will overwrite some part of the style using the `sk-estimator` class\n",
       "*/\n",
       "\n",
       "/* Pipeline and ColumnTransformer style (default) */\n",
       "\n",
       "#sk-container-id-1 div.sk-toggleable {\n",
       "  /* Default theme specific background. It is overwritten whether we have a\n",
       "  specific estimator or a Pipeline/ColumnTransformer */\n",
       "  background-color: var(--sklearn-color-background);\n",
       "}\n",
       "\n",
       "/* Toggleable label */\n",
       "#sk-container-id-1 label.sk-toggleable__label {\n",
       "  cursor: pointer;\n",
       "  display: block;\n",
       "  width: 100%;\n",
       "  margin-bottom: 0;\n",
       "  padding: 0.5em;\n",
       "  box-sizing: border-box;\n",
       "  text-align: center;\n",
       "}\n",
       "\n",
       "#sk-container-id-1 label.sk-toggleable__label-arrow:before {\n",
       "  /* Arrow on the left of the label */\n",
       "  content: \"▸\";\n",
       "  float: left;\n",
       "  margin-right: 0.25em;\n",
       "  color: var(--sklearn-color-icon);\n",
       "}\n",
       "\n",
       "#sk-container-id-1 label.sk-toggleable__label-arrow:hover:before {\n",
       "  color: var(--sklearn-color-text);\n",
       "}\n",
       "\n",
       "/* Toggleable content - dropdown */\n",
       "\n",
       "#sk-container-id-1 div.sk-toggleable__content {\n",
       "  max-height: 0;\n",
       "  max-width: 0;\n",
       "  overflow: hidden;\n",
       "  text-align: left;\n",
       "  /* unfitted */\n",
       "  background-color: var(--sklearn-color-unfitted-level-0);\n",
       "}\n",
       "\n",
       "#sk-container-id-1 div.sk-toggleable__content.fitted {\n",
       "  /* fitted */\n",
       "  background-color: var(--sklearn-color-fitted-level-0);\n",
       "}\n",
       "\n",
       "#sk-container-id-1 div.sk-toggleable__content pre {\n",
       "  margin: 0.2em;\n",
       "  border-radius: 0.25em;\n",
       "  color: var(--sklearn-color-text);\n",
       "  /* unfitted */\n",
       "  background-color: var(--sklearn-color-unfitted-level-0);\n",
       "}\n",
       "\n",
       "#sk-container-id-1 div.sk-toggleable__content.fitted pre {\n",
       "  /* unfitted */\n",
       "  background-color: var(--sklearn-color-fitted-level-0);\n",
       "}\n",
       "\n",
       "#sk-container-id-1 input.sk-toggleable__control:checked~div.sk-toggleable__content {\n",
       "  /* Expand drop-down */\n",
       "  max-height: 200px;\n",
       "  max-width: 100%;\n",
       "  overflow: auto;\n",
       "}\n",
       "\n",
       "#sk-container-id-1 input.sk-toggleable__control:checked~label.sk-toggleable__label-arrow:before {\n",
       "  content: \"▾\";\n",
       "}\n",
       "\n",
       "/* Pipeline/ColumnTransformer-specific style */\n",
       "\n",
       "#sk-container-id-1 div.sk-label input.sk-toggleable__control:checked~label.sk-toggleable__label {\n",
       "  color: var(--sklearn-color-text);\n",
       "  background-color: var(--sklearn-color-unfitted-level-2);\n",
       "}\n",
       "\n",
       "#sk-container-id-1 div.sk-label.fitted input.sk-toggleable__control:checked~label.sk-toggleable__label {\n",
       "  background-color: var(--sklearn-color-fitted-level-2);\n",
       "}\n",
       "\n",
       "/* Estimator-specific style */\n",
       "\n",
       "/* Colorize estimator box */\n",
       "#sk-container-id-1 div.sk-estimator input.sk-toggleable__control:checked~label.sk-toggleable__label {\n",
       "  /* unfitted */\n",
       "  background-color: var(--sklearn-color-unfitted-level-2);\n",
       "}\n",
       "\n",
       "#sk-container-id-1 div.sk-estimator.fitted input.sk-toggleable__control:checked~label.sk-toggleable__label {\n",
       "  /* fitted */\n",
       "  background-color: var(--sklearn-color-fitted-level-2);\n",
       "}\n",
       "\n",
       "#sk-container-id-1 div.sk-label label.sk-toggleable__label,\n",
       "#sk-container-id-1 div.sk-label label {\n",
       "  /* The background is the default theme color */\n",
       "  color: var(--sklearn-color-text-on-default-background);\n",
       "}\n",
       "\n",
       "/* On hover, darken the color of the background */\n",
       "#sk-container-id-1 div.sk-label:hover label.sk-toggleable__label {\n",
       "  color: var(--sklearn-color-text);\n",
       "  background-color: var(--sklearn-color-unfitted-level-2);\n",
       "}\n",
       "\n",
       "/* Label box, darken color on hover, fitted */\n",
       "#sk-container-id-1 div.sk-label.fitted:hover label.sk-toggleable__label.fitted {\n",
       "  color: var(--sklearn-color-text);\n",
       "  background-color: var(--sklearn-color-fitted-level-2);\n",
       "}\n",
       "\n",
       "/* Estimator label */\n",
       "\n",
       "#sk-container-id-1 div.sk-label label {\n",
       "  font-family: monospace;\n",
       "  font-weight: bold;\n",
       "  display: inline-block;\n",
       "  line-height: 1.2em;\n",
       "}\n",
       "\n",
       "#sk-container-id-1 div.sk-label-container {\n",
       "  text-align: center;\n",
       "}\n",
       "\n",
       "/* Estimator-specific */\n",
       "#sk-container-id-1 div.sk-estimator {\n",
       "  font-family: monospace;\n",
       "  border: 1px dotted var(--sklearn-color-border-box);\n",
       "  border-radius: 0.25em;\n",
       "  box-sizing: border-box;\n",
       "  margin-bottom: 0.5em;\n",
       "  /* unfitted */\n",
       "  background-color: var(--sklearn-color-unfitted-level-0);\n",
       "}\n",
       "\n",
       "#sk-container-id-1 div.sk-estimator.fitted {\n",
       "  /* fitted */\n",
       "  background-color: var(--sklearn-color-fitted-level-0);\n",
       "}\n",
       "\n",
       "/* on hover */\n",
       "#sk-container-id-1 div.sk-estimator:hover {\n",
       "  /* unfitted */\n",
       "  background-color: var(--sklearn-color-unfitted-level-2);\n",
       "}\n",
       "\n",
       "#sk-container-id-1 div.sk-estimator.fitted:hover {\n",
       "  /* fitted */\n",
       "  background-color: var(--sklearn-color-fitted-level-2);\n",
       "}\n",
       "\n",
       "/* Specification for estimator info (e.g. \"i\" and \"?\") */\n",
       "\n",
       "/* Common style for \"i\" and \"?\" */\n",
       "\n",
       ".sk-estimator-doc-link,\n",
       "a:link.sk-estimator-doc-link,\n",
       "a:visited.sk-estimator-doc-link {\n",
       "  float: right;\n",
       "  font-size: smaller;\n",
       "  line-height: 1em;\n",
       "  font-family: monospace;\n",
       "  background-color: var(--sklearn-color-background);\n",
       "  border-radius: 1em;\n",
       "  height: 1em;\n",
       "  width: 1em;\n",
       "  text-decoration: none !important;\n",
       "  margin-left: 1ex;\n",
       "  /* unfitted */\n",
       "  border: var(--sklearn-color-unfitted-level-1) 1pt solid;\n",
       "  color: var(--sklearn-color-unfitted-level-1);\n",
       "}\n",
       "\n",
       ".sk-estimator-doc-link.fitted,\n",
       "a:link.sk-estimator-doc-link.fitted,\n",
       "a:visited.sk-estimator-doc-link.fitted {\n",
       "  /* fitted */\n",
       "  border: var(--sklearn-color-fitted-level-1) 1pt solid;\n",
       "  color: var(--sklearn-color-fitted-level-1);\n",
       "}\n",
       "\n",
       "/* On hover */\n",
       "div.sk-estimator:hover .sk-estimator-doc-link:hover,\n",
       ".sk-estimator-doc-link:hover,\n",
       "div.sk-label-container:hover .sk-estimator-doc-link:hover,\n",
       ".sk-estimator-doc-link:hover {\n",
       "  /* unfitted */\n",
       "  background-color: var(--sklearn-color-unfitted-level-3);\n",
       "  color: var(--sklearn-color-background);\n",
       "  text-decoration: none;\n",
       "}\n",
       "\n",
       "div.sk-estimator.fitted:hover .sk-estimator-doc-link.fitted:hover,\n",
       ".sk-estimator-doc-link.fitted:hover,\n",
       "div.sk-label-container:hover .sk-estimator-doc-link.fitted:hover,\n",
       ".sk-estimator-doc-link.fitted:hover {\n",
       "  /* fitted */\n",
       "  background-color: var(--sklearn-color-fitted-level-3);\n",
       "  color: var(--sklearn-color-background);\n",
       "  text-decoration: none;\n",
       "}\n",
       "\n",
       "/* Span, style for the box shown on hovering the info icon */\n",
       ".sk-estimator-doc-link span {\n",
       "  display: none;\n",
       "  z-index: 9999;\n",
       "  position: relative;\n",
       "  font-weight: normal;\n",
       "  right: .2ex;\n",
       "  padding: .5ex;\n",
       "  margin: .5ex;\n",
       "  width: min-content;\n",
       "  min-width: 20ex;\n",
       "  max-width: 50ex;\n",
       "  color: var(--sklearn-color-text);\n",
       "  box-shadow: 2pt 2pt 4pt #999;\n",
       "  /* unfitted */\n",
       "  background: var(--sklearn-color-unfitted-level-0);\n",
       "  border: .5pt solid var(--sklearn-color-unfitted-level-3);\n",
       "}\n",
       "\n",
       ".sk-estimator-doc-link.fitted span {\n",
       "  /* fitted */\n",
       "  background: var(--sklearn-color-fitted-level-0);\n",
       "  border: var(--sklearn-color-fitted-level-3);\n",
       "}\n",
       "\n",
       ".sk-estimator-doc-link:hover span {\n",
       "  display: block;\n",
       "}\n",
       "\n",
       "/* \"?\"-specific style due to the `<a>` HTML tag */\n",
       "\n",
       "#sk-container-id-1 a.estimator_doc_link {\n",
       "  float: right;\n",
       "  font-size: 1rem;\n",
       "  line-height: 1em;\n",
       "  font-family: monospace;\n",
       "  background-color: var(--sklearn-color-background);\n",
       "  border-radius: 1rem;\n",
       "  height: 1rem;\n",
       "  width: 1rem;\n",
       "  text-decoration: none;\n",
       "  /* unfitted */\n",
       "  color: var(--sklearn-color-unfitted-level-1);\n",
       "  border: var(--sklearn-color-unfitted-level-1) 1pt solid;\n",
       "}\n",
       "\n",
       "#sk-container-id-1 a.estimator_doc_link.fitted {\n",
       "  /* fitted */\n",
       "  border: var(--sklearn-color-fitted-level-1) 1pt solid;\n",
       "  color: var(--sklearn-color-fitted-level-1);\n",
       "}\n",
       "\n",
       "/* On hover */\n",
       "#sk-container-id-1 a.estimator_doc_link:hover {\n",
       "  /* unfitted */\n",
       "  background-color: var(--sklearn-color-unfitted-level-3);\n",
       "  color: var(--sklearn-color-background);\n",
       "  text-decoration: none;\n",
       "}\n",
       "\n",
       "#sk-container-id-1 a.estimator_doc_link.fitted:hover {\n",
       "  /* fitted */\n",
       "  background-color: var(--sklearn-color-fitted-level-3);\n",
       "}\n",
       "</style><div id=\"sk-container-id-1\" class=\"sk-top-container\"><div class=\"sk-text-repr-fallback\"><pre>Pipeline(steps=[(&#x27;preprocessor&#x27;,\n",
       "                 ColumnTransformer(transformers=[(&#x27;num&#x27;,\n",
       "                                                  Pipeline(steps=[(&#x27;imputer&#x27;,\n",
       "                                                                   SimpleImputer()),\n",
       "                                                                  (&#x27;scaler&#x27;,\n",
       "                                                                   StandardScaler())]),\n",
       "                                                  [&#x27;runtime&#x27;, &#x27;vote_count&#x27;,\n",
       "                                                   &#x27;log_budget&#x27;, &#x27;log_revenue&#x27;,\n",
       "                                                   &#x27;log_popularity&#x27;,\n",
       "                                                   &#x27;movie_age&#x27;,\n",
       "                                                   &#x27;overview_word_count&#x27;,\n",
       "                                                   &#x27;overview_sentiment&#x27;]),\n",
       "                                                 (&#x27;cat&#x27;,\n",
       "                                                  Pipeline(steps=[(&#x27;onehot&#x27;,\n",
       "                                                                   OneHotEncoder(handle_unknown=&#x27;ignore&#x27;))]),\n",
       "                                                  [&#x27;sta...\n",
       "                              feature_types=None, gamma=None, grow_policy=None,\n",
       "                              importance_type=None,\n",
       "                              interaction_constraints=None, learning_rate=0.1,\n",
       "                              max_bin=None, max_cat_threshold=None,\n",
       "                              max_cat_to_onehot=None, max_delta_step=None,\n",
       "                              max_depth=5, max_leaves=None,\n",
       "                              min_child_weight=None, missing=nan,\n",
       "                              monotone_constraints=None, multi_strategy=None,\n",
       "                              n_estimators=100, n_jobs=None,\n",
       "                              num_parallel_tree=None, random_state=42, ...))])</pre><b>In a Jupyter environment, please rerun this cell to show the HTML representation or trust the notebook. <br />On GitHub, the HTML representation is unable to render, please try loading this page with nbviewer.org.</b></div><div class=\"sk-container\" hidden><div class=\"sk-item sk-dashed-wrapped\"><div class=\"sk-label-container\"><div class=\"sk-label fitted sk-toggleable\"><input class=\"sk-toggleable__control sk-hidden--visually\" id=\"sk-estimator-id-1\" type=\"checkbox\" ><label for=\"sk-estimator-id-1\" class=\"sk-toggleable__label fitted sk-toggleable__label-arrow fitted\">&nbsp;&nbsp;Pipeline<a class=\"sk-estimator-doc-link fitted\" rel=\"noreferrer\" target=\"_blank\" href=\"https://scikit-learn.org/1.5/modules/generated/sklearn.pipeline.Pipeline.html\">?<span>Documentation for Pipeline</span></a><span class=\"sk-estimator-doc-link fitted\">i<span>Fitted</span></span></label><div class=\"sk-toggleable__content fitted\"><pre>Pipeline(steps=[(&#x27;preprocessor&#x27;,\n",
       "                 ColumnTransformer(transformers=[(&#x27;num&#x27;,\n",
       "                                                  Pipeline(steps=[(&#x27;imputer&#x27;,\n",
       "                                                                   SimpleImputer()),\n",
       "                                                                  (&#x27;scaler&#x27;,\n",
       "                                                                   StandardScaler())]),\n",
       "                                                  [&#x27;runtime&#x27;, &#x27;vote_count&#x27;,\n",
       "                                                   &#x27;log_budget&#x27;, &#x27;log_revenue&#x27;,\n",
       "                                                   &#x27;log_popularity&#x27;,\n",
       "                                                   &#x27;movie_age&#x27;,\n",
       "                                                   &#x27;overview_word_count&#x27;,\n",
       "                                                   &#x27;overview_sentiment&#x27;]),\n",
       "                                                 (&#x27;cat&#x27;,\n",
       "                                                  Pipeline(steps=[(&#x27;onehot&#x27;,\n",
       "                                                                   OneHotEncoder(handle_unknown=&#x27;ignore&#x27;))]),\n",
       "                                                  [&#x27;sta...\n",
       "                              feature_types=None, gamma=None, grow_policy=None,\n",
       "                              importance_type=None,\n",
       "                              interaction_constraints=None, learning_rate=0.1,\n",
       "                              max_bin=None, max_cat_threshold=None,\n",
       "                              max_cat_to_onehot=None, max_delta_step=None,\n",
       "                              max_depth=5, max_leaves=None,\n",
       "                              min_child_weight=None, missing=nan,\n",
       "                              monotone_constraints=None, multi_strategy=None,\n",
       "                              n_estimators=100, n_jobs=None,\n",
       "                              num_parallel_tree=None, random_state=42, ...))])</pre></div> </div></div><div class=\"sk-serial\"><div class=\"sk-item sk-dashed-wrapped\"><div class=\"sk-label-container\"><div class=\"sk-label fitted sk-toggleable\"><input class=\"sk-toggleable__control sk-hidden--visually\" id=\"sk-estimator-id-2\" type=\"checkbox\" ><label for=\"sk-estimator-id-2\" class=\"sk-toggleable__label fitted sk-toggleable__label-arrow fitted\">&nbsp;preprocessor: ColumnTransformer<a class=\"sk-estimator-doc-link fitted\" rel=\"noreferrer\" target=\"_blank\" href=\"https://scikit-learn.org/1.5/modules/generated/sklearn.compose.ColumnTransformer.html\">?<span>Documentation for preprocessor: ColumnTransformer</span></a></label><div class=\"sk-toggleable__content fitted\"><pre>ColumnTransformer(transformers=[(&#x27;num&#x27;,\n",
       "                                 Pipeline(steps=[(&#x27;imputer&#x27;, SimpleImputer()),\n",
       "                                                 (&#x27;scaler&#x27;, StandardScaler())]),\n",
       "                                 [&#x27;runtime&#x27;, &#x27;vote_count&#x27;, &#x27;log_budget&#x27;,\n",
       "                                  &#x27;log_revenue&#x27;, &#x27;log_popularity&#x27;, &#x27;movie_age&#x27;,\n",
       "                                  &#x27;overview_word_count&#x27;,\n",
       "                                  &#x27;overview_sentiment&#x27;]),\n",
       "                                (&#x27;cat&#x27;,\n",
       "                                 Pipeline(steps=[(&#x27;onehot&#x27;,\n",
       "                                                  OneHotEncoder(handle_unknown=&#x27;ignore&#x27;))]),\n",
       "                                 [&#x27;status&#x27;])])</pre></div> </div></div><div class=\"sk-parallel\"><div class=\"sk-parallel-item\"><div class=\"sk-item\"><div class=\"sk-label-container\"><div class=\"sk-label fitted sk-toggleable\"><input class=\"sk-toggleable__control sk-hidden--visually\" id=\"sk-estimator-id-3\" type=\"checkbox\" ><label for=\"sk-estimator-id-3\" class=\"sk-toggleable__label fitted sk-toggleable__label-arrow fitted\">num</label><div class=\"sk-toggleable__content fitted\"><pre>[&#x27;runtime&#x27;, &#x27;vote_count&#x27;, &#x27;log_budget&#x27;, &#x27;log_revenue&#x27;, &#x27;log_popularity&#x27;, &#x27;movie_age&#x27;, &#x27;overview_word_count&#x27;, &#x27;overview_sentiment&#x27;]</pre></div> </div></div><div class=\"sk-serial\"><div class=\"sk-item\"><div class=\"sk-serial\"><div class=\"sk-item\"><div class=\"sk-estimator fitted sk-toggleable\"><input class=\"sk-toggleable__control sk-hidden--visually\" id=\"sk-estimator-id-4\" type=\"checkbox\" ><label for=\"sk-estimator-id-4\" class=\"sk-toggleable__label fitted sk-toggleable__label-arrow fitted\">&nbsp;SimpleImputer<a class=\"sk-estimator-doc-link fitted\" rel=\"noreferrer\" target=\"_blank\" href=\"https://scikit-learn.org/1.5/modules/generated/sklearn.impute.SimpleImputer.html\">?<span>Documentation for SimpleImputer</span></a></label><div class=\"sk-toggleable__content fitted\"><pre>SimpleImputer()</pre></div> </div></div><div class=\"sk-item\"><div class=\"sk-estimator fitted sk-toggleable\"><input class=\"sk-toggleable__control sk-hidden--visually\" id=\"sk-estimator-id-5\" type=\"checkbox\" ><label for=\"sk-estimator-id-5\" class=\"sk-toggleable__label fitted sk-toggleable__label-arrow fitted\">&nbsp;StandardScaler<a class=\"sk-estimator-doc-link fitted\" rel=\"noreferrer\" target=\"_blank\" href=\"https://scikit-learn.org/1.5/modules/generated/sklearn.preprocessing.StandardScaler.html\">?<span>Documentation for StandardScaler</span></a></label><div class=\"sk-toggleable__content fitted\"><pre>StandardScaler()</pre></div> </div></div></div></div></div></div></div><div class=\"sk-parallel-item\"><div class=\"sk-item\"><div class=\"sk-label-container\"><div class=\"sk-label fitted sk-toggleable\"><input class=\"sk-toggleable__control sk-hidden--visually\" id=\"sk-estimator-id-6\" type=\"checkbox\" ><label for=\"sk-estimator-id-6\" class=\"sk-toggleable__label fitted sk-toggleable__label-arrow fitted\">cat</label><div class=\"sk-toggleable__content fitted\"><pre>[&#x27;status&#x27;]</pre></div> </div></div><div class=\"sk-serial\"><div class=\"sk-item\"><div class=\"sk-serial\"><div class=\"sk-item\"><div class=\"sk-estimator fitted sk-toggleable\"><input class=\"sk-toggleable__control sk-hidden--visually\" id=\"sk-estimator-id-7\" type=\"checkbox\" ><label for=\"sk-estimator-id-7\" class=\"sk-toggleable__label fitted sk-toggleable__label-arrow fitted\">&nbsp;OneHotEncoder<a class=\"sk-estimator-doc-link fitted\" rel=\"noreferrer\" target=\"_blank\" href=\"https://scikit-learn.org/1.5/modules/generated/sklearn.preprocessing.OneHotEncoder.html\">?<span>Documentation for OneHotEncoder</span></a></label><div class=\"sk-toggleable__content fitted\"><pre>OneHotEncoder(handle_unknown=&#x27;ignore&#x27;)</pre></div> </div></div></div></div></div></div></div></div></div><div class=\"sk-item\"><div class=\"sk-estimator fitted sk-toggleable\"><input class=\"sk-toggleable__control sk-hidden--visually\" id=\"sk-estimator-id-8\" type=\"checkbox\" ><label for=\"sk-estimator-id-8\" class=\"sk-toggleable__label fitted sk-toggleable__label-arrow fitted\">XGBRegressor</label><div class=\"sk-toggleable__content fitted\"><pre>XGBRegressor(base_score=None, booster=None, callbacks=None,\n",
       "             colsample_bylevel=None, colsample_bynode=None,\n",
       "             colsample_bytree=None, device=None, early_stopping_rounds=None,\n",
       "             enable_categorical=False, eval_metric=None, feature_types=None,\n",
       "             gamma=None, grow_policy=None, importance_type=None,\n",
       "             interaction_constraints=None, learning_rate=0.1, max_bin=None,\n",
       "             max_cat_threshold=None, max_cat_to_onehot=None,\n",
       "             max_delta_step=None, max_depth=5, max_leaves=None,\n",
       "             min_child_weight=None, missing=nan, monotone_constraints=None,\n",
       "             multi_strategy=None, n_estimators=100, n_jobs=None,\n",
       "             num_parallel_tree=None, random_state=42, ...)</pre></div> </div></div></div></div></div></div>"
      ],
      "text/plain": [
       "Pipeline(steps=[('preprocessor',\n",
       "                 ColumnTransformer(transformers=[('num',\n",
       "                                                  Pipeline(steps=[('imputer',\n",
       "                                                                   SimpleImputer()),\n",
       "                                                                  ('scaler',\n",
       "                                                                   StandardScaler())]),\n",
       "                                                  ['runtime', 'vote_count',\n",
       "                                                   'log_budget', 'log_revenue',\n",
       "                                                   'log_popularity',\n",
       "                                                   'movie_age',\n",
       "                                                   'overview_word_count',\n",
       "                                                   'overview_sentiment']),\n",
       "                                                 ('cat',\n",
       "                                                  Pipeline(steps=[('onehot',\n",
       "                                                                   OneHotEncoder(handle_unknown='ignore'))]),\n",
       "                                                  ['sta...\n",
       "                              feature_types=None, gamma=None, grow_policy=None,\n",
       "                              importance_type=None,\n",
       "                              interaction_constraints=None, learning_rate=0.1,\n",
       "                              max_bin=None, max_cat_threshold=None,\n",
       "                              max_cat_to_onehot=None, max_delta_step=None,\n",
       "                              max_depth=5, max_leaves=None,\n",
       "                              min_child_weight=None, missing=nan,\n",
       "                              monotone_constraints=None, multi_strategy=None,\n",
       "                              n_estimators=100, n_jobs=None,\n",
       "                              num_parallel_tree=None, random_state=42, ...))])"
      ]
     },
     "execution_count": 14,
     "metadata": {},
     "output_type": "execute_result"
    }
   ],
   "source": [
    "model = Pipeline(steps=[\n",
    "    ('preprocessor', preprocessor),\n",
    "    ('model', xgb.XGBRegressor(n_estimators=100, learning_rate=0.1, max_depth=5, random_state=42))\n",
    "])\n",
    "\n",
    "model.fit(df_train, y_train)\n",
    "\n"
   ]
  },
  {
   "cell_type": "code",
   "execution_count": 15,
   "id": "9614cdf4-8037-430d-8fa3-4ba7664d810c",
   "metadata": {},
   "outputs": [
    {
     "name": "stdout",
     "output_type": "stream",
     "text": [
      "Test Predictions:  [5.3213153 6.8552866 6.2414894 5.961068  5.893515 ]\n"
     ]
    }
   ],
   "source": [
    "test_predictions = model.predict(df_test)\n",
    "print(\"Test Predictions: \", test_predictions[:5])"
   ]
  },
  {
   "cell_type": "code",
   "execution_count": 16,
   "id": "976843fa-58c5-4eb1-aa61-71f002e15cd3",
   "metadata": {},
   "outputs": [
    {
     "data": {
      "text/plain": [
       "array([2.4284039, 2.6739519, 2.3335257, 2.8809135, 2.8402596, 2.832331 ],\n",
       "      dtype=float32)"
      ]
     },
     "execution_count": 16,
     "metadata": {},
     "output_type": "execute_result"
    }
   ],
   "source": [
    "test_predictions[test_predictions < 3]"
   ]
  },
  {
   "cell_type": "code",
   "execution_count": 17,
   "id": "0029cbd2-5291-4ff6-9488-3a3dfe5fe3bb",
   "metadata": {},
   "outputs": [
    {
     "data": {
      "text/plain": [
       "np.float64(1.828848644444252)"
      ]
     },
     "execution_count": 17,
     "metadata": {},
     "output_type": "execute_result"
    }
   ],
   "source": [
    "root_mean_squared_error(test_predictions, y_test)"
   ]
  },
  {
   "cell_type": "code",
   "execution_count": 18,
   "id": "ec9e346f-c03c-4b20-a751-2866d41bd605",
   "metadata": {},
   "outputs": [],
   "source": [
    "# Check XGB train / val "
   ]
  },
  {
   "cell_type": "code",
   "execution_count": 19,
   "id": "be50d531-95da-41ff-a4e7-251f7f87bd1f",
   "metadata": {},
   "outputs": [],
   "source": [
    "X_train_pp = preprocessor.fit_transform(df_train)\n",
    "X_val_pp = preprocessor.transform(df_val)\n",
    "\n",
    "dtrain = xgb.DMatrix(X_train_pp, label=y_train)\n",
    "dval = xgb.DMatrix(X_val_pp, label=y_val)"
   ]
  },
  {
   "cell_type": "code",
   "execution_count": null,
   "id": "f4985bc6-5d5a-4aeb-b478-460c5e7f67be",
   "metadata": {},
   "outputs": [],
   "source": []
  },
  {
   "cell_type": "code",
   "execution_count": 20,
   "id": "7073fd8b-b7ee-4801-8219-f4fbf6817129",
   "metadata": {},
   "outputs": [],
   "source": [
    "\n",
    "xgb_params = {\n",
    "    'eta': 0.1,\n",
    "    'max_depth': 5,\n",
    "    'min_child_weight': 20,\n",
    "\n",
    "    'objective': 'reg:squarederror',\n",
    "    'eval_metric': 'rmse',\n",
    "\n",
    "    'nthread': 8,\n",
    "\n",
    "    'seed': 1,\n",
    "    'verbosity': 1,\n",
    "    'lambda': 1,      # L2 regularization \n",
    "    'alpha': 1,       # L1 regularization \n",
    "}\n",
    "\n",
    "evals=[(dtrain, \"train\"), (dval, \"val\")]\n",
    "evals_result={}\n",
    "\n",
    "model = xgb.train(\n",
    "    xgb_params,\n",
    "    dtrain,\n",
    "    num_boost_round=150,\n",
    "    early_stopping_rounds=10,\n",
    "    evals=evals,\n",
    "    evals_result=evals_result,\n",
    "    verbose_eval=False\n",
    ")\n"
   ]
  },
  {
   "cell_type": "code",
   "execution_count": 21,
   "id": "ed6c1244-ca56-4aaa-8f38-ceb01bc6efab",
   "metadata": {},
   "outputs": [],
   "source": [
    "train_rmse = evals_result['train']['rmse']\n",
    "val_rmse = evals_result['val']['rmse']\n",
    "itrs = list(range(1, len(train_rmse) + 1))\n"
   ]
  },
  {
   "cell_type": "code",
   "execution_count": 22,
   "id": "9f96bda5-a9b4-48c1-ac24-6427b606cf38",
   "metadata": {},
   "outputs": [
    {
     "data": {
      "text/plain": [
       "<matplotlib.legend.Legend at 0x134890ec0>"
      ]
     },
     "execution_count": 22,
     "metadata": {},
     "output_type": "execute_result"
    },
    {
     "data": {
      "image/png": "[encoded data removed]",
      "text/plain": [
       "<Figure size 1000x600 with 1 Axes>"
      ]
     },
     "metadata": {},
     "output_type": "display_data"
    }
   ],
   "source": [
    "plt.figure(figsize=(10, 6))\n",
    "plt.plot(itrs, train_rmse, label='Train RMSE')\n",
    "plt.plot(itrs, val_rmse, label='Validation RMSE')\n",
    "plt.legend()\n"
   ]
  },
  {
   "cell_type": "code",
   "execution_count": 23,
   "id": "78560d4a-c3ba-4846-9258-c47d819425c2",
   "metadata": {},
   "outputs": [],
   "source": [
    "def model_train(eta=0.1, max_depth=5, min_child_weight=20):\n",
    "    xgb_params = {\n",
    "        'eta': eta,\n",
    "        'max_depth': max_depth,\n",
    "        'min_child_weight': min_child_weight,\n",
    "    \n",
    "        'objective': 'reg:squarederror',\n",
    "        'eval_metric': 'rmse',\n",
    "    \n",
    "        'nthread': 8,\n",
    "    \n",
    "        'seed': 1,\n",
    "        'verbosity': 1,\n",
    "        'lambda': 1,      # L2 regularization \n",
    "        'alpha': 1,       # L1 regularization \n",
    "    }\n",
    "\n",
    "    evals=[(dtrain, \"train\"), (dval, \"val\")]\n",
    "    evals_result={}\n",
    "    \n",
    "    model = xgb.train(\n",
    "        xgb_params,\n",
    "        dtrain,\n",
    "        num_boost_round=150,\n",
    "        early_stopping_rounds=10,\n",
    "        evals=evals,\n",
    "        evals_result=evals_result,\n",
    "        verbose_eval=False\n",
    "    )\n",
    "    train_rmse = evals_result['train']['rmse']\n",
    "    val_rmse = evals_result['val']['rmse']\n",
    "    itrs = list(range(1, len(train_rmse) + 1))\n",
    "\n",
    "    return (itrs, train_rmse, val_rmse)\n"
   ]
  },
  {
   "cell_type": "code",
   "execution_count": 24,
   "id": "136d35c9-ac88-4aa8-9ff1-58d10e685f4b",
   "metadata": {},
   "outputs": [
    {
     "data": {
      "image/png": "[encoded data removed]",
      "text/plain": [
       "<Figure size 1000x600 with 1 Axes>"
      ]
     },
     "metadata": {},
     "output_type": "display_data"
    }
   ],
   "source": [
    "eta_scores = [0.05, 0.1, 0.5, 1]\n",
    "plt.figure(figsize=(10, 6))\n",
    "\n",
    "for eta in eta_scores:\n",
    "    itrs, train_rmse, val_rmse = model_train(eta=eta)\n",
    "    plt.plot(itrs, val_rmse, label=f\"eta={eta}\")\n",
    "\n",
    "plt.xlabel('Iteration')\n",
    "plt.ylabel('Validation RMSE')\n",
    "plt.title('Validation RMSE vs Iteration for Different Eta Values')\n",
    "plt.legend()\n",
    "plt.show()"
   ]
  },
  {
   "cell_type": "code",
   "execution_count": 25,
   "id": "836b4a50-a95c-4ea8-890f-2164d7446e8b",
   "metadata": {},
   "outputs": [],
   "source": [
    "eta = 0.1"
   ]
  },
  {
   "cell_type": "code",
   "execution_count": null,
   "id": "8f2c5d12-12a6-4744-bd54-727d8dfe86b8",
   "metadata": {},
   "outputs": [],
   "source": []
  },
  {
   "cell_type": "code",
   "execution_count": 26,
   "id": "ef244669-00b7-4abc-a434-9fab223a349e",
   "metadata": {},
   "outputs": [
    {
     "data": {
      "image/png": "[encoded data removed]",
      "text/plain": [
       "<Figure size 1000x600 with 1 Axes>"
      ]
     },
     "metadata": {},
     "output_type": "display_data"
    }
   ],
   "source": [
    "md_scores = [3, 5, 7, 10, 15]\n",
    "plt.figure(figsize=(10, 6))\n",
    "\n",
    "for md in md_scores:\n",
    "    itrs, train_rmse, val_rmse = model_train(max_depth=md)\n",
    "    plt.plot(itrs, val_rmse, label=f\"max_depth={md}\")\n",
    "\n",
    "plt.xlabel('Iteration')\n",
    "plt.ylabel('Validation RMSE')\n",
    "plt.title('Validation RMSE vs Iteration for Different Max Depth Values')\n",
    "plt.legend()\n",
    "plt.show()"
   ]
  },
  {
   "cell_type": "code",
   "execution_count": 27,
   "id": "ce5f3716-4dea-421d-9bba-bc696b483634",
   "metadata": {},
   "outputs": [],
   "source": [
    "max_depth=7"
   ]
  },
  {
   "cell_type": "code",
   "execution_count": null,
   "id": "c746c427-07e6-4498-a3f1-9e14bf699415",
   "metadata": {},
   "outputs": [],
   "source": []
  },
  {
   "cell_type": "code",
   "execution_count": null,
   "id": "03edd57b-d560-4e62-97b1-e2df31f0f798",
   "metadata": {},
   "outputs": [],
   "source": []
  },
  {
   "cell_type": "code",
   "execution_count": 28,
   "id": "5939744d-8b00-4874-9722-bd60afcf48ce",
   "metadata": {},
   "outputs": [
    {
     "data": {
      "image/png": "[encoded data removed]",
      "text/plain": [
       "<Figure size 1000x600 with 1 Axes>"
      ]
     },
     "metadata": {},
     "output_type": "display_data"
    }
   ],
   "source": [
    "mcw_scores = [5, 10, 25, 50]\n",
    "plt.figure(figsize=(10, 6))\n",
    "\n",
    "for mcw in mcw_scores:\n",
    "    itrs, train_rmse, val_rmse = model_train(min_child_weight=mcw)\n",
    "    plt.plot(itrs, val_rmse, label=f\"min_child_weight={mcw}\")\n",
    "\n",
    "plt.xlabel('Iteration')\n",
    "plt.ylabel('Validation RMSE')\n",
    "plt.title('Validation RMSE vs Iteration for Different Min Child Weight Values')\n",
    "\n",
    "plt.xlim(20, 150)\n",
    "plt.ylim(1.8, 1.84)\n",
    "\n",
    "plt.legend()\n",
    "plt.show()"
   ]
  },
  {
   "cell_type": "code",
   "execution_count": 29,
   "id": "45602508-0596-4cc9-8cfd-3b3c86babde5",
   "metadata": {},
   "outputs": [],
   "source": [
    "min_child_weight = 10"
   ]
  },
  {
   "cell_type": "code",
   "execution_count": 30,
   "id": "805f810c-c523-41a7-92c8-2e148f75a8c4",
   "metadata": {},
   "outputs": [
    {
     "data": {
      "text/plain": [
       "array(['num__runtime', 'num__vote_count', 'num__log_budget',\n",
       "       'num__log_revenue', 'num__log_popularity', 'num__movie_age',\n",
       "       'num__overview_word_count', 'num__overview_sentiment',\n",
       "       'cat__status_Canceled', 'cat__status_In Production',\n",
       "       'cat__status_Planned', 'cat__status_Post Production',\n",
       "       'cat__status_Released', 'cat__status_Rumored'], dtype=object)"
      ]
     },
     "execution_count": 30,
     "metadata": {},
     "output_type": "execute_result"
    }
   ],
   "source": [
    "preprocessor.get_feature_names_out()"
   ]
  },
  {
   "cell_type": "code",
   "execution_count": 31,
   "id": "be3b8a8a-1e24-48f5-8f12-d58b2ac6dca6",
   "metadata": {},
   "outputs": [],
   "source": [
    "# Final Model\n"
   ]
  },
  {
   "cell_type": "code",
   "execution_count": null,
   "id": "5b2b650a-dd87-4a51-a4be-44e81aa48330",
   "metadata": {},
   "outputs": [],
   "source": []
  },
  {
   "cell_type": "code",
   "execution_count": 32,
   "id": "4d6c8d45-6b49-453e-a5a4-441509e5d651",
   "metadata": {},
   "outputs": [],
   "source": [
    "X_full_train_pp = preprocessor.fit_transform(df_full_train)\n",
    "X_test_pp = preprocessor.transform(df_test)\n",
    "\n",
    "dfulltrain = xgb.DMatrix(X_full_train_pp, label=y_full_train)\n",
    "dtest = xgb.DMatrix(X_test_pp, label=y_test)"
   ]
  },
  {
   "cell_type": "code",
   "execution_count": 33,
   "id": "19df7b94-5019-46ec-a703-06822e47e395",
   "metadata": {},
   "outputs": [],
   "source": [
    "xgb_params = {\n",
    "    'eta': 0.1,\n",
    "    'max_depth': 7,\n",
    "    'min_child_weight': 10,\n",
    "\n",
    "    'objective': 'reg:squarederror',\n",
    "    'eval_metric': 'rmse',\n",
    "\n",
    "    'nthread': 8,\n",
    "\n",
    "    'seed': 1,\n",
    "    'verbosity': 1,\n",
    "    'lambda': 1,      # L2 regularization \n",
    "    'alpha': 1,       # L1 regularization \n",
    "}\n",
    "\n",
    "evals=[(dtrain, \"train\"), (dval, \"val\")]\n",
    "evals_result={}\n",
    "\n",
    "model = xgb.train(\n",
    "    xgb_params,\n",
    "    dfulltrain,\n",
    "    num_boost_round=150,\n",
    "    early_stopping_rounds=10,\n",
    "    evals=evals,\n",
    "    evals_result=evals_result,\n",
    "    verbose_eval=False\n",
    ")\n"
   ]
  },
  {
   "cell_type": "code",
   "execution_count": 34,
   "id": "1a0ca8e7-b983-4348-804a-cb30dbc99e45",
   "metadata": {},
   "outputs": [
    {
     "data": {
      "text/plain": [
       "np.float64(1.8241877372072486)"
      ]
     },
     "execution_count": 34,
     "metadata": {},
     "output_type": "execute_result"
    }
   ],
   "source": [
    "test_pred = model.predict(dtest)\n",
    "root_mean_squared_error(test_pred, y_test)"
   ]
  },
  {
   "cell_type": "code",
   "execution_count": 35,
   "id": "070526a7-38af-4797-85c8-636a044543ee",
   "metadata": {},
   "outputs": [
    {
     "data": {
      "text/plain": [
       "121"
      ]
     },
     "execution_count": 35,
     "metadata": {},
     "output_type": "execute_result"
    }
   ],
   "source": [
    "len(test_pred[(test_pred > 2) & (test_pred < 4)])"
   ]
  },
  {
   "cell_type": "code",
   "execution_count": null,
   "id": "7373bca2-9401-4db0-8ba3-cca5b1c14ccd",
   "metadata": {},
   "outputs": [],
   "source": []
  },
  {
   "cell_type": "code",
   "execution_count": null,
   "id": "3499b163-46b7-410c-9c24-5ee11eb20a5e",
   "metadata": {},
   "outputs": [],
   "source": []
  },
  {
   "cell_type": "code",
   "execution_count": null,
   "id": "54f6e964-e88f-4030-a028-21d0f3bc5f9f",
   "metadata": {},
   "outputs": [],
   "source": []
  },
  {
   "cell_type": "code",
   "execution_count": 36,
   "id": "f4bdec11-fca0-4a55-a944-0909d56269f7",
   "metadata": {},
   "outputs": [
    {
     "data": {
      "text/plain": [
       "np.float64(0.0)"
      ]
     },
     "execution_count": 36,
     "metadata": {},
     "output_type": "execute_result"
    }
   ],
   "source": [
    "# df['log_budget'] = pd.to_numeric(df['log_budget'], errors='coerce')\n",
    "# df['log_budget'] = df['log_budget'].fillna(0)\n",
    "df[df['log_budget'] <= 0]['log_budget'].sum()"
   ]
  },
  {
   "cell_type": "code",
   "execution_count": 37,
   "id": "6994adc5-c84a-4863-bac4-1b6567d24357",
   "metadata": {},
   "outputs": [
    {
     "data": {
      "text/plain": [
       "np.float64(0.0)"
      ]
     },
     "execution_count": 37,
     "metadata": {},
     "output_type": "execute_result"
    }
   ],
   "source": [
    "df[df['log_revenue'] <= 0]['log_revenue'].sum()"
   ]
  },
  {
   "cell_type": "code",
   "execution_count": 38,
   "id": "da109a97-6458-401c-96f0-4d554cb92615",
   "metadata": {},
   "outputs": [
    {
     "data": {
      "text/plain": [
       "np.float64(0.0)"
      ]
     },
     "execution_count": 38,
     "metadata": {},
     "output_type": "execute_result"
    }
   ],
   "source": [
    "df[df['log_popularity'] <= 0]['log_popularity'].sum()"
   ]
  },
  {
   "cell_type": "code",
   "execution_count": 39,
   "id": "d9b0e662-0ba3-4493-96ca-1c911eec656c",
   "metadata": {},
   "outputs": [
    {
     "data": {
      "text/plain": [
       "{'vote_count': 1,\n",
       " 'status': 'Released',\n",
       " 'runtime': 94,\n",
       " 'overview': \"Based on the novel Winterkill, by William Judson, Cold River is the story of an Adirondack guide who takes his young daughter and step-son on a long camping trip in the fall of 1932. When winter strikes unexpectedly early (a natural phenomenon known as a 'winterkill' - so named because the animals are totally unprepared for a sudden, early winter, and many freeze or starve to death), a disastrous turn of events leaves the two children to find their own way home without food, or protection from the elements.\",\n",
       " 'genres': 'Adventure',\n",
       " 'production_companies': 0,\n",
       " 'production_countries': 'United States of America',\n",
       " 'spoken_languages': 'English',\n",
       " 'keywords': 'winter, camping',\n",
       " 'movie_age': 42.0,\n",
       " 'overview_word_count': 89,\n",
       " 'overview_sentiment': 0.013636363636363629,\n",
       " 'log_budget': 0.0,\n",
       " 'log_revenue': 0.0,\n",
       " 'log_popularity': 0.9162907318741551}"
      ]
     },
     "execution_count": 39,
     "metadata": {},
     "output_type": "execute_result"
    }
   ],
   "source": [
    "df_full_train.iloc[33].to_dict()\n"
   ]
  },
  {
   "cell_type": "code",
   "execution_count": 40,
   "id": "80e4dfb7-39a3-47c9-bb67-889110f49a63",
   "metadata": {},
   "outputs": [
    {
     "data": {
      "text/plain": [
       "{'id': 157336,\n",
       " 'title': 'Interstellar',\n",
       " 'vote_average': 8.417,\n",
       " 'vote_count': 32571,\n",
       " 'status': 'Released',\n",
       " 'release_date': '2014-11-05',\n",
       " 'revenue': 701729206,\n",
       " 'runtime': 169,\n",
       " 'adult': False,\n",
       " 'backdrop_path': '/pbrkL804c8yAv3zBZR4QPEafpAR.jpg',\n",
       " 'budget': 165000000,\n",
       " 'homepage': 'http://www.interstellarmovie.net/',\n",
       " 'imdb_id': 'tt0816692',\n",
       " 'original_language': 'en',\n",
       " 'original_title': 'Interstellar',\n",
       " 'overview': 'The adventures of a group of explorers who make use of a newly discovered wormhole to surpass the limitations on human space travel and conquer the vast distances involved in an interstellar voyage.',\n",
       " 'popularity': 140.241,\n",
       " 'poster_path': '/gEU2QniE6E77NI6lCU6MxlNBvIx.jpg',\n",
       " 'tagline': 'Mankind was born on Earth. It was never meant to die here.',\n",
       " 'genres': 'Adventure, Drama, Science Fiction',\n",
       " 'production_companies': 'Legendary Pictures, Syncopy, Lynda Obst Productions',\n",
       " 'production_countries': 'United Kingdom, United States of America',\n",
       " 'spoken_languages': 'English',\n",
       " 'keywords': 'rescue, future, spacecraft, race against time, artificial intelligence (a.i.), nasa, time warp, dystopia, expedition, space travel, wormhole, famine, black hole, quantum mechanics, family relationships, space, robot, astronaut, scientist, single father, farmer, space station, curious, space adventure, time paradox, thoughtful, time-manipulation, father daughter relationship, 2060s, cornfield, time manipulation, complicated'}"
      ]
     },
     "execution_count": 40,
     "metadata": {},
     "output_type": "execute_result"
    }
   ],
   "source": [
    "import json\n",
    "raw_df.iloc[1].to_dict()"
   ]
  },
  {
   "cell_type": "code",
   "execution_count": null,
   "id": "f2a6c332-87f6-4b5a-ad22-cd6dc57ddb2b",
   "metadata": {},
   "outputs": [],
   "source": [
    "\n",
    "\n"
   ]
  },
  {
   "cell_type": "code",
   "execution_count": 52,
   "id": "f281e4bb-d0d0-4690-ae75-13c90146f2f8",
   "metadata": {},
   "outputs": [
    {
     "data": {
      "text/plain": [
       "['Dragonball Evolution',\n",
       " 'Sharknado',\n",
       " 'Epic Movie',\n",
       " 'The Open House',\n",
       " 'Disaster Movie',\n",
       " 'Battlefield Earth',\n",
       " 'The Human Centipede 3 (Final Sequence)',\n",
       " 'Alone in the Dark',\n",
       " 'Fuga da Reuma Park',\n",
       " 'Rollerball']"
      ]
     },
     "execution_count": 52,
     "metadata": {},
     "output_type": "execute_result"
    }
   ],
   "source": [
    "list(raw_df[raw_df.vote_average < 4].title)[:10]"
   ]
  },
  {
   "cell_type": "code",
   "execution_count": 43,
   "id": "42ecb99e-78b3-4aa3-8186-727702dc8364",
   "metadata": {},
   "outputs": [
    {
     "name": "stdout",
     "output_type": "stream",
     "text": [
      "{'movie_title': 'Avengers: Age of Ultron', 'predicted_rating': 7.187842845916748}\n"
     ]
    }
   ],
   "source": [
    "import requests\n",
    "\n",
    "# Select a movie from the dataset for prediction \n",
    "# Only the necessary columns will be considered. The y-value (vote_average) in the raw_df col would be removed \n",
    "# in the API call before the action prediction. \n",
    "movie = raw_df.iloc[23].to_dict()\n",
    "for key, value in movie.items():\n",
    "    if isinstance(value, float) and np.isnan(value):\n",
    "        movie[key] = None\n",
    "\n",
    "# Define host and endpoint\n",
    "host = \"0.0.0.0:9696\"\n",
    "\n",
    "# Send POST request for prediction\n",
    "response = requests.post(\n",
    "    url=f'http://{host}/rate',\n",
    "    json=movie\n",
    ")\n",
    "\n",
    "# Output the response\n",
    "print(response.json())"
   ]
  },
  {
   "cell_type": "code",
   "execution_count": 53,
   "id": "cd02050f-2850-4bc8-b1be-3ef0a6fbc5b4",
   "metadata": {},
   "outputs": [],
   "source": [
    "def movie_rating_predictor(movie: dict):\n",
    "    \n",
    "    for key, value in movie.items():\n",
    "        if isinstance(value, float) and np.isnan(value):\n",
    "            movie[key] = None\n",
    "            \n",
    "    response = requests.post(\n",
    "        url=f'http://{host}/rate',\n",
    "        json=movie\n",
    "    )\n",
    "    print(response.json())"
   ]
  },
  {
   "cell_type": "code",
   "execution_count": 54,
   "id": "5a71b204-3ca6-46c1-a5f7-4b05b941cf17",
   "metadata": {},
   "outputs": [
    {
     "name": "stdout",
     "output_type": "stream",
     "text": [
      "{'movie_title': 'Laserblast', 'predicted_rating': 5.95926570892334}\n"
     ]
    }
   ],
   "source": [
    "movie = raw_df[raw_df.title == 'Laserblast'].to_dict(orient=\"records\")[0]\n",
    "movie_rating_predictor(movie)\n"
   ]
  },
  {
   "cell_type": "code",
   "execution_count": 56,
   "id": "4dbcd732-f5d0-45a0-b990-b071a8287fb0",
   "metadata": {},
   "outputs": [
    {
     "name": "stdout",
     "output_type": "stream",
     "text": [
      "{'movie_title': 'Epic Movie', 'predicted_rating': 5.813991069793701}\n"
     ]
    }
   ],
   "source": [
    "movie = raw_df[raw_df.title == 'Epic Movie'].to_dict(orient=\"records\")[0]\n",
    "movie_rating_predictor(movie)\n"
   ]
  },
  {
   "cell_type": "code",
   "execution_count": null,
   "id": "dcc0767f-340b-4c22-a517-346878f156d7",
   "metadata": {},
   "outputs": [],
   "source": [
    "movie = raw_df[raw_df.title == 'The Batman'].to_dict(orient=\"records\")[0]\n",
    "movie_rating_predictor(movie)"
   ]
  },
  {
   "cell_type": "code",
   "execution_count": null,
   "id": "26eb4389-70ee-4a78-b0d3-805a4cb3effb",
   "metadata": {},
   "outputs": [],
   "source": []
  },
  {
   "cell_type": "code",
   "execution_count": null,
   "id": "a03c104f-d506-4b5b-b7af-54c489c75dbc",
   "metadata": {},
   "outputs": [],
   "source": []
  },
  {
   "cell_type": "code",
   "execution_count": null,
   "id": "66b28899-a6c0-4944-8d1b-55e54df699e8",
   "metadata": {},
   "outputs": [],
   "source": []
  },
  {
   "cell_type": "code",
   "execution_count": null,
   "id": "1d5d9ae5-51a9-4cf8-b66e-e386230f6139",
   "metadata": {},
   "outputs": [],
   "source": []
  },
  {
   "cell_type": "code",
   "execution_count": null,
   "id": "ace49ebd-b513-4578-a881-c20b1ae18ad3",
   "metadata": {},
   "outputs": [],
   "source": []
  }
 ],
 "metadata": {
  "kernelspec": {
   "display_name": "Python 3 (ipykernel)",
   "language": "python",
   "name": "python3"
  },
  "language_info": {
   "codemirror_mode": {
    "name": "ipython",
    "version": 3
   },
   "file_extension": ".py",
   "mimetype": "text/x-python",
   "name": "python",
   "nbconvert_exporter": "python",
   "pygments_lexer": "ipython3",
   "version": "3.13.0"
  }
 },
 "nbformat": 4,
 "nbformat_minor": 5
}
